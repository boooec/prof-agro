{
 "cells": [
  {
   "cell_type": "code",
   "execution_count": 4,
   "id": "308f2e46-06f8-4145-9443-2e99b60164e8",
   "metadata": {},
   "outputs": [],
   "source": [
    "# \"\"\"Модуль содержит агентов - генераторов плана для тем 'Отпуск по уходу за ребенком (ОУР)' и 'Мой доход и льготы'\"\"\"\n",
    "import tomli\n",
    "from langchain_core.messages import SystemMessage\n",
    "from langchain_core.prompts import HumanMessagePromptTemplate\n",
    "from langchain_core.prompts import ChatPromptTemplate\n",
    "from langchain_core.output_parsers import StrOutputParser\n",
    "from langchain_community.chat_models import GigaChat\n",
    "\n",
    "from config import ParametrsAndPromts\n",
    "\n",
    "import time\n",
    "import requests\n",
    "import warnings\n",
    "import threading\n",
    "import contextlib\n",
    "\n",
    "from urllib.parse import urlencode\n",
    "from urllib3.exceptions import InsecureRequestWarning\n",
    "\n",
    "URL = 'https://gigachat.devices.sberbank.ru/api/v1'\n",
    "from langchain_community.chat_models import GigaChat\n",
    "\n",
    "model = GigaChat(\n",
    "    base_url = URL,\n",
    "    credentials='ZTZkM2ZmODYtNDRmNC00OWQ0LTkyNTUtOTA1NzE1ZGY2ZTFjOmZkM2M5Nzk1LTY4ZjItNDU1Ni1hN2NlLWU5ODIzNzIwZDMwNg==',\n",
    "    scope='GIGACHAT_API_CORP',\n",
    "    model = 'GigaChat-Max',\n",
    "    profanity_check = False,\n",
    "    streaming = False,\n",
    "    timeout=180,\n",
    "    verify_ssl_certs = False,\n",
    ")\n",
    "\n",
    "\n",
    "parametrsandprompts = ParametrsAndPromts.model_validate(tomli.load(open('model.toml', 'rb')))\n",
    "\n",
    "prompt_chtodelat = ChatPromptTemplate.from_messages(\n",
    "    [\n",
    "        SystemMessage(content = parametrsandprompts.prompts.system_prompt_template),\n",
    "        HumanMessagePromptTemplate.from_template(parametrsandprompts.prompts.user_prompt_template.format(instruction = parametrsandprompts.prompts.instructions.chtodelat))\n",
    "    ]\n",
    ")\n",
    "\n",
    "prompt_checklist = ChatPromptTemplate.from_messages(\n",
    "    [\n",
    "        SystemMessage(content = parametrsandprompts.prompts.system_prompt_template),\n",
    "        HumanMessagePromptTemplate.from_template(parametrsandprompts.prompts.user_prompt_template.format(instruction = parametrsandprompts.prompts.instructions.checklist))\n",
    "    ]\n",
    ")\n",
    "\n",
    "# Итоговые цепочки\n",
    "chain_chtodelat = prompt_chtodelat | model | StrOutputParser()\n",
    "chain_checklist = prompt_checklist | model | StrOutputParser()\n",
    "\n",
    "def giga_invoke(message: str) -> str:\n",
    "    answer = chain_checklist.invoke(message)\n",
    "    return type(answer)"
   ]
  },
  {
   "cell_type": "code",
   "execution_count": 5,
   "id": "4bad1c6c-09b7-4e6a-8963-ae1757bf734f",
   "metadata": {},
   "outputs": [
    {
     "data": {
      "text/plain": [
       "str"
      ]
     },
     "execution_count": 5,
     "metadata": {},
     "output_type": "execute_result"
    }
   ],
   "source": [
    "giga_invoke('как работает дисплей')"
   ]
  },
  {
   "cell_type": "code",
   "execution_count": 3,
   "id": "3b398b79-0ee8-47da-827d-a220fb431c3a",
   "metadata": {},
   "outputs": [],
   "source": [
    "from langchain.vectorstores import Qdrant"
   ]
  },
  {
   "cell_type": "code",
   "execution_count": null,
   "id": "a41b3388-b8aa-4f58-97b1-739e63c44e94",
   "metadata": {},
   "outputs": [],
   "source": [
    "url = self.api_url + '/embeddings'\n",
    "headers = {'Content-Type': 'application/json',\n",
    "           'Accept': 'application/json',\n",
    "           'Authorization': f'Bearer {self.token}'}\n",
    "body = {'model': model,\n",
    "        'input': corpus,\n",
    "        'profanity_check': profanity_check}\n",
    "with no_ssl_verification():\n",
    "    response = requests.post(url, data=json.dumps(body), headers=headers)\n",
    "response.raise_for_status()\n",
    "data_dict = response.json()\n",
    "return data_dict['data']"
   ]
  },
  {
   "cell_type": "code",
   "execution_count": null,
   "id": "f86011e3-7898-4fff-98e4-ad5bd617003e",
   "metadata": {},
   "outputs": [],
   "source": []
  },
  {
   "cell_type": "code",
   "execution_count": null,
   "id": "7b302eed-7a01-45f8-b5fb-674d7f6d6f97",
   "metadata": {},
   "outputs": [],
   "source": []
  },
  {
   "cell_type": "code",
   "execution_count": 6,
   "id": "5a157f5d-7a0e-4c8f-818d-6a7eb1ddfa00",
   "metadata": {},
   "outputs": [
    {
     "ename": "ValueError",
     "evalue": "You must provide an AUTH DATA to use GigaChat. You can either pass it in as an argument or set it `GIGACHAT_AUTH_DATA`.",
     "output_type": "error",
     "traceback": [
      "\u001b[0;31m---------------------------------------------------------------------------\u001b[0m",
      "\u001b[0;31mValueError\u001b[0m                                Traceback (most recent call last)",
      "Cell \u001b[0;32mIn[6], line 3\u001b[0m\n\u001b[1;32m      1\u001b[0m \u001b[38;5;28;01mfrom\u001b[39;00m \u001b[38;5;21;01mllama_index\u001b[39;00m\u001b[38;5;21;01m.\u001b[39;00m\u001b[38;5;21;01membeddings\u001b[39;00m\u001b[38;5;21;01m.\u001b[39;00m\u001b[38;5;21;01mgigachat\u001b[39;00m \u001b[38;5;28;01mimport\u001b[39;00m GigaChatEmbedding\n\u001b[0;32m----> 3\u001b[0m gigachat_embedding \u001b[38;5;241m=\u001b[39m \u001b[43mGigaChatEmbedding\u001b[49m\u001b[43m(\u001b[49m\n\u001b[1;32m      4\u001b[0m \u001b[43m    \u001b[49m\u001b[43mbase_url\u001b[49m\u001b[43m \u001b[49m\u001b[38;5;241;43m=\u001b[39;49m\u001b[43m \u001b[49m\u001b[43mURL\u001b[49m\u001b[43m,\u001b[49m\n\u001b[1;32m      5\u001b[0m \u001b[43m    \u001b[49m\u001b[43mcredentials\u001b[49m\u001b[38;5;241;43m=\u001b[39;49m\u001b[38;5;124;43m'\u001b[39;49m\u001b[38;5;124;43mZTZkM2ZmODYtNDRmNC00OWQ0LTkyNTUtOTA1NzE1ZGY2ZTFjOmZkM2M5Nzk1LTY4ZjItNDU1Ni1hN2NlLWU5ODIzNzIwZDMwNg==\u001b[39;49m\u001b[38;5;124;43m'\u001b[39;49m\u001b[43m,\u001b[49m\n\u001b[1;32m      6\u001b[0m \u001b[43m    \u001b[49m\u001b[43mscope\u001b[49m\u001b[38;5;241;43m=\u001b[39;49m\u001b[38;5;124;43m'\u001b[39;49m\u001b[38;5;124;43mGIGACHAT_API_CORP\u001b[39;49m\u001b[38;5;124;43m'\u001b[39;49m\u001b[43m,\u001b[49m\n\u001b[1;32m      7\u001b[0m \u001b[43m    \u001b[49m\u001b[43mmodel\u001b[49m\u001b[43m \u001b[49m\u001b[38;5;241;43m=\u001b[39;49m\u001b[43m \u001b[49m\u001b[38;5;124;43m'\u001b[39;49m\u001b[38;5;124;43mGigaChat-Max\u001b[39;49m\u001b[38;5;124;43m'\u001b[39;49m\u001b[43m,\u001b[49m\n\u001b[1;32m      8\u001b[0m \u001b[43m    \u001b[49m\u001b[43mprofanity_check\u001b[49m\u001b[43m \u001b[49m\u001b[38;5;241;43m=\u001b[39;49m\u001b[43m \u001b[49m\u001b[38;5;28;43;01mFalse\u001b[39;49;00m\u001b[43m,\u001b[49m\n\u001b[1;32m      9\u001b[0m \u001b[43m    \u001b[49m\u001b[43mstreaming\u001b[49m\u001b[43m \u001b[49m\u001b[38;5;241;43m=\u001b[39;49m\u001b[43m \u001b[49m\u001b[38;5;28;43;01mFalse\u001b[39;49;00m\u001b[43m,\u001b[49m\n\u001b[1;32m     10\u001b[0m \u001b[43m    \u001b[49m\u001b[43mtimeout\u001b[49m\u001b[38;5;241;43m=\u001b[39;49m\u001b[38;5;241;43m180\u001b[39;49m\u001b[43m,\u001b[49m\n\u001b[1;32m     11\u001b[0m \u001b[43m    \u001b[49m\u001b[43mverify_ssl_certs\u001b[49m\u001b[43m \u001b[49m\u001b[38;5;241;43m=\u001b[39;49m\u001b[43m \u001b[49m\u001b[38;5;28;43;01mFalse\u001b[39;49;00m\n\u001b[1;32m     12\u001b[0m \u001b[43m)\u001b[49m\n",
      "File \u001b[0;32m~/.mlspace/envs/hack/lib/python3.11/site-packages/llama_index/embeddings/gigachat/base.py:46\u001b[0m, in \u001b[0;36mGigaChatEmbedding.__init__\u001b[0;34m(self, name, auth_data, scope, embed_batch_size, callback_manager, **kwargs)\u001b[0m\n\u001b[1;32m     42\u001b[0m auth_data \u001b[38;5;241m=\u001b[39m get_from_param_or_env(\n\u001b[1;32m     43\u001b[0m     \u001b[38;5;124m\"\u001b[39m\u001b[38;5;124mauth_data\u001b[39m\u001b[38;5;124m\"\u001b[39m, auth_data, \u001b[38;5;124m\"\u001b[39m\u001b[38;5;124mGIGACHAT_AUTH_DATA\u001b[39m\u001b[38;5;124m\"\u001b[39m, \u001b[38;5;124m\"\u001b[39m\u001b[38;5;124m\"\u001b[39m\n\u001b[1;32m     44\u001b[0m )\n\u001b[1;32m     45\u001b[0m \u001b[38;5;28;01mif\u001b[39;00m \u001b[38;5;129;01mnot\u001b[39;00m auth_data:\n\u001b[0;32m---> 46\u001b[0m     \u001b[38;5;28;01mraise\u001b[39;00m \u001b[38;5;167;01mValueError\u001b[39;00m(\n\u001b[1;32m     47\u001b[0m         \u001b[38;5;124m\"\u001b[39m\u001b[38;5;124mYou must provide an AUTH DATA to use GigaChat. \u001b[39m\u001b[38;5;124m\"\u001b[39m\n\u001b[1;32m     48\u001b[0m         \u001b[38;5;124m\"\u001b[39m\u001b[38;5;124mYou can either pass it in as an argument or set it `GIGACHAT_AUTH_DATA`.\u001b[39m\u001b[38;5;124m\"\u001b[39m\n\u001b[1;32m     49\u001b[0m     )\n\u001b[1;32m     50\u001b[0m \u001b[38;5;28;01mif\u001b[39;00m scope \u001b[38;5;129;01mis\u001b[39;00m \u001b[38;5;28;01mNone\u001b[39;00m:\n\u001b[1;32m     51\u001b[0m     \u001b[38;5;28;01mraise\u001b[39;00m \u001b[38;5;167;01mValueError\u001b[39;00m(\n\u001b[1;32m     52\u001b[0m \u001b[38;5;250m        \u001b[39m\u001b[38;5;124;03m\"\"\"\u001b[39;00m\n\u001b[1;32m     53\u001b[0m \u001b[38;5;124;03m        GigaChat scope cannot be 'None'.\u001b[39;00m\n\u001b[1;32m     54\u001b[0m \u001b[38;5;124;03m        Set 'GIGACHAT_API_PERS' for personal use or 'GIGACHAT_API_CORP' for corporate use.\u001b[39;00m\n\u001b[1;32m     55\u001b[0m \u001b[38;5;124;03m        \"\"\"\u001b[39;00m\n\u001b[1;32m     56\u001b[0m     )\n",
      "\u001b[0;31mValueError\u001b[0m: You must provide an AUTH DATA to use GigaChat. You can either pass it in as an argument or set it `GIGACHAT_AUTH_DATA`."
     ]
    }
   ],
   "source": [
    "from llama_index.embeddings.gigachat import GigaChatEmbedding\n",
    "\n",
    "gigachat_embedding = GigaChatEmbedding(\n",
    "    base_url = URL,\n",
    "    credentials='ZTZkM2ZmODYtNDRmNC00OWQ0LTkyNTUtOTA1NzE1ZGY2ZTFjOmZkM2M5Nzk1LTY4ZjItNDU1Ni1hN2NlLWU5ODIzNzIwZDMwNg==',\n",
    "    scope='GIGACHAT_API_CORP',\n",
    "    model = 'GigaChat-Max',\n",
    "    profanity_check = False,\n",
    "    streaming = False,\n",
    "    timeout=180,\n",
    "    verify_ssl_certs = False\n",
    ")"
   ]
  },
  {
   "cell_type": "code",
   "execution_count": null,
   "id": "18149eba-8818-40eb-9e26-2be61030ebe8",
   "metadata": {},
   "outputs": [],
   "source": [
    "queries_embedding = gigachat_embedding._get_query_embeddings(\n",
    "    [\"This is a passage!\", \"This is another passage\"]\n",
    ")\n",
    "print(queries_embedding)\n",
    "\n",
    "text_embedding = gigachat_embedding._get_text_embedding(\"Where is blue?\")\n",
    "print(text_embedding)"
   ]
  },
  {
   "cell_type": "code",
   "execution_count": null,
   "id": "abcb240f-819f-4b4d-b83f-8b7b6ffc4f09",
   "metadata": {},
   "outputs": [],
   "source": [
    "doc_store = Qdrant.from_documents(\n",
    "    war_and_peace,\n",
    "    embeddings,\n",
    "    location=\":memory:\",\n",
    "    collection_name=\"docs\",\n",
    ")"
   ]
  }
 ],
 "metadata": {
  "kernelspec": {
   "display_name": "Python [conda env:.mlspace-hack]",
   "language": "python",
   "name": "conda-env-.mlspace-hack-py"
  },
  "language_info": {
   "codemirror_mode": {
    "name": "ipython",
    "version": 3
   },
   "file_extension": ".py",
   "mimetype": "text/x-python",
   "name": "python",
   "nbconvert_exporter": "python",
   "pygments_lexer": "ipython3",
   "version": "3.11.11"
  }
 },
 "nbformat": 4,
 "nbformat_minor": 5
}
